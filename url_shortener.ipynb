{
  "nbformat": 4,
  "nbformat_minor": 0,
  "metadata": {
    "colab": {
      "name": "url_shortener.ipynb",
      "provenance": [],
      "collapsed_sections": [],
      "authorship_tag": "ABX9TyN4blYQGc9OslJhuDHomEri",
      "include_colab_link": true
    },
    "kernelspec": {
      "name": "python3",
      "display_name": "Python 3"
    },
    "language_info": {
      "name": "python"
    }
  },
  "cells": [
    {
      "cell_type": "markdown",
      "metadata": {
        "id": "view-in-github",
        "colab_type": "text"
      },
      "source": [
        "<a href=\"https://colab.research.google.com/github/tanushreegupta/tanushreegupta/blob/main/url_shortener.ipynb\" target=\"_parent\"><img src=\"https://colab.research.google.com/assets/colab-badge.svg\" alt=\"Open In Colab\"/></a>"
      ]
    },
    {
      "cell_type": "code",
      "execution_count": 1,
      "metadata": {
        "colab": {
          "base_uri": "https://localhost:8080/"
        },
        "id": "pVsNWSXHn_-K",
        "outputId": "8230e6ea-2a6d-4ee3-dfb5-a908f81169c4"
      },
      "outputs": [
        {
          "output_type": "stream",
          "name": "stdout",
          "text": [
            "Collecting bitly_api\n",
            "  Downloading bitly_api-0.3.tar.gz (8.8 kB)\n",
            "Building wheels for collected packages: bitly-api\n",
            "  Building wheel for bitly-api (setup.py) ... \u001b[?25l\u001b[?25hdone\n",
            "  Created wheel for bitly-api: filename=bitly_api-0.3-py3-none-any.whl size=8723 sha256=4a8fce55bcd92fedc093df05b704acdb1db674c6aa4df1c1643084102d8b34ff\n",
            "  Stored in directory: /root/.cache/pip/wheels/43/cd/a3/6eeb2ccb7ad7dc5b4956dfc11709b98a75851f64a20a99adac\n",
            "Successfully built bitly-api\n",
            "Installing collected packages: bitly-api\n",
            "Successfully installed bitly-api-0.3\n"
          ]
        }
      ],
      "source": [
        "pip install bitly_api"
      ]
    },
    {
      "cell_type": "code",
      "source": [
        "pip install pyshorteners"
      ],
      "metadata": {
        "id": "TI5y5cmqoDvH",
        "colab": {
          "base_uri": "https://localhost:8080/"
        },
        "outputId": "3b2f51d9-fe67-4be6-ded2-d1024fa02203"
      },
      "execution_count": 3,
      "outputs": [
        {
          "output_type": "stream",
          "name": "stdout",
          "text": [
            "Collecting pyshorteners\n",
            "  Downloading pyshorteners-1.0.1.tar.gz (10.0 kB)\n",
            "Requirement already satisfied: requests in /usr/local/lib/python3.7/dist-packages (from pyshorteners) (2.23.0)\n",
            "Requirement already satisfied: certifi>=2017.4.17 in /usr/local/lib/python3.7/dist-packages (from requests->pyshorteners) (2021.10.8)\n",
            "Requirement already satisfied: idna<3,>=2.5 in /usr/local/lib/python3.7/dist-packages (from requests->pyshorteners) (2.10)\n",
            "Requirement already satisfied: urllib3!=1.25.0,!=1.25.1,<1.26,>=1.21.1 in /usr/local/lib/python3.7/dist-packages (from requests->pyshorteners) (1.24.3)\n",
            "Requirement already satisfied: chardet<4,>=3.0.2 in /usr/local/lib/python3.7/dist-packages (from requests->pyshorteners) (3.0.4)\n",
            "Building wheels for collected packages: pyshorteners\n",
            "  Building wheel for pyshorteners (setup.py) ... \u001b[?25l\u001b[?25hdone\n",
            "  Created wheel for pyshorteners: filename=pyshorteners-1.0.1-py3-none-any.whl size=17496 sha256=fe81e1711ea07e3e5f0da515eb5e6f8677cad7e469d5f49bbf88a25fa759f59d\n",
            "  Stored in directory: /root/.cache/pip/wheels/1e/c6/50/b06780af353f181fae16d55deb7b47f8aef30567e24a9ce456\n",
            "Successfully built pyshorteners\n",
            "Installing collected packages: pyshorteners\n",
            "Successfully installed pyshorteners-1.0.1\n"
          ]
        }
      ]
    },
    {
      "cell_type": "code",
      "source": [
        "import pyshorteners"
      ],
      "metadata": {
        "id": "7IEm2UhGoDxm"
      },
      "execution_count": 4,
      "outputs": []
    },
    {
      "cell_type": "code",
      "source": [
        "long_url = input(\"Enter the URL to shorten: \")"
      ],
      "metadata": {
        "id": "s9JqA0EOoD04",
        "colab": {
          "base_uri": "https://localhost:8080/"
        },
        "outputId": "2ccc0826-5c12-4c1d-8024-5a9d05468f69"
      },
      "execution_count": 5,
      "outputs": [
        {
          "name": "stdout",
          "output_type": "stream",
          "text": [
            "Enter the URL to shorten: https://colab.research.google.com/drive/1nfRT0aA3Wh6e1FQlbix-vPuZoxr4SPMw#scrollTo=s9JqA0EOoD04\n"
          ]
        }
      ]
    },
    {
      "cell_type": "code",
      "source": [
        "type_tiny = pyshorteners.Shortener()"
      ],
      "metadata": {
        "id": "e6m50TaXoD5R"
      },
      "execution_count": 6,
      "outputs": []
    },
    {
      "cell_type": "code",
      "source": [
        "short_url = type_tiny.tinyurl.short(long_url)\n",
        " \n",
        "print(\"The Shortened URL is: \" + short_url)\n"
      ],
      "metadata": {
        "id": "0QHS6deKoD8s",
        "colab": {
          "base_uri": "https://localhost:8080/"
        },
        "outputId": "1ccec54b-7ad9-4802-8f95-af2556a51804"
      },
      "execution_count": 7,
      "outputs": [
        {
          "output_type": "stream",
          "name": "stdout",
          "text": [
            "The Shortened URL is: https://tinyurl.com/y9p6fgu9\n"
          ]
        }
      ]
    },
    {
      "cell_type": "code",
      "source": [
        "import pyshorteners\n",
        "long_url = input(\"Enter the URL to shorten: \")\n",
        " \n",
        "#TinyURL shortener service\n",
        "type_tiny = pyshorteners.Shortener()\n",
        "short_url = type_tiny.tinyurl.short(long_url)\n",
        " \n",
        "print(\"The Shortened URL is: \" + short_url)\n"
      ],
      "metadata": {
        "id": "jss0yX_coD_1",
        "colab": {
          "base_uri": "https://localhost:8080/"
        },
        "outputId": "c45482eb-a831-4de0-b75a-2e2edd673460"
      },
      "execution_count": 10,
      "outputs": [
        {
          "output_type": "stream",
          "name": "stdout",
          "text": [
            "Enter the URL to shorten: https://www.google.com/search?q=myglamm+free+lipstick+survey&oq=mygl&aqs=chrome.2.69i59j69i57j0i512j0i433i512j0i131i433i512j69i60l3.2704j0j7&sourceid=chrome&ie=UTF-8\n",
            "The Shortened URL is: https://tinyurl.com/ycw5ahq8\n"
          ]
        }
      ]
    },
    {
      "cell_type": "markdown",
      "source": [
        "That's how you can shorten any URL."
      ],
      "metadata": {
        "id": "1oUqpva7F5qh"
      }
    },
    {
      "cell_type": "code",
      "source": [
        ""
      ],
      "metadata": {
        "id": "UfDwZ1PPGDkS"
      },
      "execution_count": null,
      "outputs": []
    }
  ]
}